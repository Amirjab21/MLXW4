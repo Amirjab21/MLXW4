{
 "cells": [
  {
   "cell_type": "code",
   "execution_count": 3,
   "metadata": {},
   "outputs": [],
   "source": [
    "from datasets import load_dataset\n",
    "from torchvision import transforms\n",
    "import numpy as np\n",
    "\n",
    "dataset = load_dataset(\"nlphuji/flickr30k\").with_format(\"numpy\")"
   ]
  },
  {
   "cell_type": "code",
   "execution_count": 8,
   "metadata": {},
   "outputs": [
    {
     "name": "stdout",
     "output_type": "stream",
     "text": [
      "{'image': array([[[  0,   6,   4],\n",
      "        [  2,   6,   5],\n",
      "        [  3,   5,   4],\n",
      "        ...,\n",
      "        [219, 244, 249],\n",
      "        [222, 253, 255],\n",
      "        [221, 249, 250]],\n",
      "\n",
      "       [[  4,   8,   7],\n",
      "        [  3,   5,   4],\n",
      "        [  5,   7,   6],\n",
      "        ...,\n",
      "        [228, 253, 250],\n",
      "        [212, 245, 254],\n",
      "        [218, 253, 255]],\n",
      "\n",
      "       [[  3,   3,   3],\n",
      "        [  4,   4,   4],\n",
      "        [  5,   5,   5],\n",
      "        ...,\n",
      "        [242, 255, 255],\n",
      "        [232, 255, 251],\n",
      "        [214, 245, 250]],\n",
      "\n",
      "       ...,\n",
      "\n",
      "       [[166, 177, 147],\n",
      "        [180, 188, 131],\n",
      "        [130, 155, 100],\n",
      "        ...,\n",
      "        [106, 158,  86],\n",
      "        [134, 172, 113],\n",
      "        [107, 163,  72]],\n",
      "\n",
      "       [[202, 219, 151],\n",
      "        [144, 175, 115],\n",
      "        [133, 160, 117],\n",
      "        ...,\n",
      "        [157, 188, 129],\n",
      "        [156, 186, 124],\n",
      "        [157, 196, 117]],\n",
      "\n",
      "       [[144, 157,  87],\n",
      "        [185, 211, 172],\n",
      "        [184, 214, 152],\n",
      "        ...,\n",
      "        [156, 186, 122],\n",
      "        [191, 200, 153],\n",
      "        [106, 126,  65]]], shape=(500, 333, 3), dtype=uint8), 'caption': array(['Two young guys with shaggy hair look at their hands while hanging out in the yard.',\n",
      "       'Two young, White males are outside near many bushes.',\n",
      "       'Two men in green shirts are standing in a yard.',\n",
      "       'A man in a blue shirt standing in a garden.',\n",
      "       'Two friends enjoy time spent together.'], dtype=object), 'sentids': array(['0', '1', '2', '3', '4'], dtype=object), 'split': np.str_('train'), 'img_id': np.str_('0'), 'filename': np.str_('1000092795.jpg')}\n"
     ]
    }
   ],
   "source": [
    "print(dataset['test'][0])"
   ]
  },
  {
   "cell_type": "code",
   "execution_count": 10,
   "metadata": {},
   "outputs": [],
   "source": [
    "def split_image_to_patches(image, image_height, image_width, patch_size, channels = 3):\n",
    "    blocks = []\n",
    "    num_patches = image_height // patch_size\n",
    "    image = np.array(image)  # This will give you a (3, 224, 224) numpy array\n",
    "    print(image.shape)\n",
    "    for c in range(channels):\n",
    "        for i in range(num_patches):\n",
    "            for j in range(num_patches):\n",
    "                #left to right, top to bottom\n",
    "                block = image[c, i*patch_size : (i+1)*patch_size , j*patch_size : (j+1)*patch_size]\n",
    "                blocks.append(block)\n",
    "    return blocks"
   ]
  },
  {
   "cell_type": "code",
   "execution_count": null,
   "metadata": {},
   "outputs": [
    {
     "name": "stderr",
     "output_type": "stream",
     "text": [
      "Map:  10%|▉         | 2999/31014 [01:14<01:53, 246.14 examples/s] "
     ]
    }
   ],
   "source": [
    "# dataset2 = load_dataset(\"nlphuji/flickr30k\")\n",
    "\n",
    "\n",
    "# # Apply the transformation while keeping original images\n",
    "# dataset_real_images = dataset2.map(transform_images)"
   ]
  },
  {
   "cell_type": "code",
   "execution_count": null,
   "metadata": {},
   "outputs": [],
   "source": []
  }
 ],
 "metadata": {
  "kernelspec": {
   "display_name": "week4",
   "language": "python",
   "name": "python3"
  },
  "language_info": {
   "codemirror_mode": {
    "name": "ipython",
    "version": 3
   },
   "file_extension": ".py",
   "mimetype": "text/x-python",
   "name": "python",
   "nbconvert_exporter": "python",
   "pygments_lexer": "ipython3",
   "version": "3.12.2"
  }
 },
 "nbformat": 4,
 "nbformat_minor": 2
}
